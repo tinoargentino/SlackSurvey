{
 "cells": [
  {
   "cell_type": "code",
   "execution_count": 2,
   "metadata": {},
   "outputs": [],
   "source": [
    "import json\n",
    "import os\n",
    "#import os.path\n",
    "from slack import WebClient\n",
    "from slack.errors import SlackApiError\n",
    "import base64\n",
    "from urllib.parse import parse_qs\n",
    "from urllib.parse import unquote\n",
    "from time import sleep"
   ]
  },
  {
   "cell_type": "code",
   "execution_count": 3,
   "metadata": {},
   "outputs": [],
   "source": [
    "import requests\n",
    "\n",
    "#import pickle\n",
    "#from googleapiclient.discovery import build\n",
    "#from google_auth_oauthlib.flow import InstalledAppFlow\n",
    "#from google.auth.transport.requests import Request\n",
    "from datetime import datetime\n",
    "#from oauth2client.service_account import ServiceAccountCredentials\n",
    "from oauth2client.service_account import ServiceAccountCredentials\n",
    "import gspread\n"
   ]
  },
  {
   "cell_type": "code",
   "execution_count": 4,
   "metadata": {},
   "outputs": [],
   "source": [
    "    scope = [\"https://spreadsheets.google.com/feeds\",'https://www.googleapis.com/auth/spreadsheets',\"https://www.googleapis.com/auth/drive.file\",\"https://www.googleapis.com/auth/drive\"]\n",
    "    credentials = ServiceAccountCredentials.from_json_keyfile_name('creds.json', scopes=scope)"
   ]
  },
  {
   "cell_type": "code",
   "execution_count": 5,
   "metadata": {},
   "outputs": [],
   "source": [
    "        gc = gspread.authorize(credentials)\n",
    "        sh = gc.open_by_key('1nyQc1zzoGlY0ZSpxGGA89dLibhVrkLI0ut3ry9AJkQk')\n",
    "\n",
    "        ReceiverListSheet=sh.worksheet(\"Receiver List\")\n",
    "        Receivers = ReceiverListSheet.get_all_values()"
   ]
  },
  {
   "cell_type": "code",
   "execution_count": 6,
   "metadata": {},
   "outputs": [
    {
     "data": {
      "text/plain": [
       "[['Real Name', 'Email', 'Slack ID', 'Role'],\n",
       " ['Valentin Schmidt', 'valentin.schmidt@sprinklr.com', 'U5QABKZ4P', 'NA']]"
      ]
     },
     "execution_count": 6,
     "metadata": {},
     "output_type": "execute_result"
    }
   ],
   "source": [
    "Receivers"
   ]
  },
  {
   "cell_type": "code",
   "execution_count": 10,
   "metadata": {},
   "outputs": [],
   "source": [
    "#        user_list=list(map(lambda u: [u[\"id\"],u[\"profile\"].get(\"email\",\"na\"),u[\"name\"],u.get(\"real_name\",\"na\"),u['deleted']], users))\n"
   ]
  },
  {
   "cell_type": "code",
   "execution_count": 13,
   "metadata": {},
   "outputs": [],
   "source": [
    "eventname= 'test'\n",
    "hashed='996872752863961073'"
   ]
  },
  {
   "cell_type": "code",
   "execution_count": 12,
   "metadata": {},
   "outputs": [
    {
     "data": {
      "text/plain": [
       "['Real Name', 'Email', 'Slack ID']"
      ]
     },
     "execution_count": 12,
     "metadata": {},
     "output_type": "execute_result"
    }
   ],
   "source": [
    "Receivers[0]"
   ]
  },
  {
   "cell_type": "code",
   "execution_count": 14,
   "metadata": {},
   "outputs": [],
   "source": [
    "user_list=list(map(lambda u: [u[0],u[1],u[2],hashed,eventname], Receivers))"
   ]
  },
  {
   "cell_type": "code",
   "execution_count": 15,
   "metadata": {},
   "outputs": [
    {
     "data": {
      "text/plain": [
       "[['Real Name', 'Email', 'Slack ID', '996872752863961073', 'test'],\n",
       " ['matt.henry',\n",
       "  'matt.henry@sprinklr.com',\n",
       "  'U01DCE6H4RK',\n",
       "  '996872752863961073',\n",
       "  'test'],\n",
       " ['Jordan Cocksedge',\n",
       "  'jordan.cocksedge@sprinklr.com',\n",
       "  'U01C779K05U',\n",
       "  '996872752863961073',\n",
       "  'test'],\n",
       " ['kelly.leung',\n",
       "  'kelly.leung@sprinklr.com',\n",
       "  'U01CFC9975M',\n",
       "  '996872752863961073',\n",
       "  'test'],\n",
       " ['Brian Vargas',\n",
       "  'brian.vargas@sprinklr.com',\n",
       "  'U01DHHRB4NQ',\n",
       "  '996872752863961073',\n",
       "  'test'],\n",
       " ['jonathan mahler',\n",
       "  'jonathan.mahler@sprinklr.com',\n",
       "  'U01DJ61D1AQ',\n",
       "  '996872752863961073',\n",
       "  'test'],\n",
       " ['Mateus Beltrão (8am-5pm EST I 6h30pm-3h30am IST)',\n",
       "  'mateus.beltrao@sprinklr.com',\n",
       "  'U01DQBPQM70',\n",
       "  '996872752863961073',\n",
       "  'test'],\n",
       " ['devender vashist',\n",
       "  'devender.vashist@sprinklr.com',\n",
       "  'U01DXTVTBDY',\n",
       "  '996872752863961073',\n",
       "  'test'],\n",
       " ['ralph.gill',\n",
       "  'ralph.gill@sprinklr.com',\n",
       "  'U01DMR1GK2A',\n",
       "  '996872752863961073',\n",
       "  'test'],\n",
       " ['Justin Bleich',\n",
       "  'justin.bleich@sprinklr.com',\n",
       "  'U01DC776J67',\n",
       "  '996872752863961073',\n",
       "  'test'],\n",
       " ['Michael Dean',\n",
       "  'michael.dean@sprinklr.com',\n",
       "  'U01C8AKU88Y',\n",
       "  '996872752863961073',\n",
       "  'test'],\n",
       " ['mark.tringale',\n",
       "  'mark.tringale@sprinklr.com',\n",
       "  'U01CBUJM893',\n",
       "  '996872752863961073',\n",
       "  'test'],\n",
       " ['danilo.locatelli',\n",
       "  'danilo.locatelli@sprinklr.com',\n",
       "  'U01CW64B21M',\n",
       "  '996872752863961073',\n",
       "  'test'],\n",
       " ['Janina Ruesch',\n",
       "  'janina.ruesch@sprinklr.com',\n",
       "  'U01DTNXH7GS',\n",
       "  '996872752863961073',\n",
       "  'test'],\n",
       " ['peter karman',\n",
       "  'peter.karman@sprinklr.com',\n",
       "  'U01E18D7PJL',\n",
       "  '996872752863961073',\n",
       "  'test'],\n",
       " ['Reid Kelly',\n",
       "  'reid.kelly@sprinklr.com',\n",
       "  'U01DBK28TGB',\n",
       "  '996872752863961073',\n",
       "  'test'],\n",
       " ['Tommy Mazzon',\n",
       "  'tommy.mazzon@sprinklr.com',\n",
       "  'U01DATW6VM0',\n",
       "  '996872752863961073',\n",
       "  'test'],\n",
       " ['darren.lin',\n",
       "  'darren.lin@sprinklr.com',\n",
       "  'U01CWLM4K55',\n",
       "  '996872752863961073',\n",
       "  'test'],\n",
       " ['Chelsey Monroe',\n",
       "  'chelsey.monroe@sprinklr.com',\n",
       "  'U01DQ218Q7K',\n",
       "  '996872752863961073',\n",
       "  'test'],\n",
       " ['Laurel Darby',\n",
       "  'laurel.darby@sprinklr.com',\n",
       "  'U01CUC838J2',\n",
       "  '996872752863961073',\n",
       "  'test'],\n",
       " ['michael.lewis',\n",
       "  'michael.lewis@sprinklr.com',\n",
       "  'U01CWAQGQE7',\n",
       "  '996872752863961073',\n",
       "  'test'],\n",
       " ['pier.patergnani',\n",
       "  'pier.patergnani@sprinklr.com',\n",
       "  'U01E0P9GC4Q',\n",
       "  '996872752863961073',\n",
       "  'test'],\n",
       " ['chris.li',\n",
       "  'chris.li@sprinklr.com',\n",
       "  'U01CFCA6495',\n",
       "  '996872752863961073',\n",
       "  'test'],\n",
       " ['matt.hoyt',\n",
       "  'matt.hoyt@sprinklr.com',\n",
       "  'U01CM6GF1EG',\n",
       "  '996872752863961073',\n",
       "  'test'],\n",
       " ['Vivian Duru (7am-4pm EST I 5h30pm-2h30am IST)',\n",
       "  'vivian.duru@sprinklr.com',\n",
       "  'U01DX9V9SCT',\n",
       "  '996872752863961073',\n",
       "  'test'],\n",
       " ['Valentin Schmidt',\n",
       "  'valentin.schmidt@sprinklr.com',\n",
       "  'U5QABKZ4P',\n",
       "  '996872752863961073',\n",
       "  'test']]"
      ]
     },
     "execution_count": 15,
     "metadata": {},
     "output_type": "execute_result"
    }
   ],
   "source": [
    "user_list"
   ]
  },
  {
   "cell_type": "code",
   "execution_count": 17,
   "metadata": {},
   "outputs": [
    {
     "data": {
      "text/plain": [
       "{'spreadsheetId': '1nyQc1zzoGlY0ZSpxGGA89dLibhVrkLI0ut3ry9AJkQk',\n",
       " 'updates': {'spreadsheetId': '1nyQc1zzoGlY0ZSpxGGA89dLibhVrkLI0ut3ry9AJkQk',\n",
       "  'updatedRange': \"'[Backend] Historic Recipient List'!A1:E26\",\n",
       "  'updatedRows': 26,\n",
       "  'updatedColumns': 5,\n",
       "  'updatedCells': 130}}"
      ]
     },
     "execution_count": 17,
     "metadata": {},
     "output_type": "execute_result"
    }
   ],
   "source": [
    "RecipientSheet=sh.worksheet(\"[Backend] Historic Recipient List\")\n",
    "\n"
   ]
  },
  {
   "cell_type": "code",
   "execution_count": 18,
   "metadata": {},
   "outputs": [
    {
     "data": {
      "text/plain": [
       "{'spreadsheetId': '1nyQc1zzoGlY0ZSpxGGA89dLibhVrkLI0ut3ry9AJkQk',\n",
       " 'tableRange': \"'[Backend] Historic Recipient List'!A1:E26\",\n",
       " 'updates': {'spreadsheetId': '1nyQc1zzoGlY0ZSpxGGA89dLibhVrkLI0ut3ry9AJkQk',\n",
       "  'updatedRange': \"'[Backend] Historic Recipient List'!A27:E51\",\n",
       "  'updatedRows': 25,\n",
       "  'updatedColumns': 5,\n",
       "  'updatedCells': 125}}"
      ]
     },
     "execution_count": 18,
     "metadata": {},
     "output_type": "execute_result"
    }
   ],
   "source": [
    "RecipientSheet.append_rows(user_list[1:])"
   ]
  },
  {
   "cell_type": "code",
   "execution_count": null,
   "metadata": {},
   "outputs": [],
   "source": []
  }
 ],
 "metadata": {
  "kernelspec": {
   "display_name": "Python 3",
   "language": "python",
   "name": "python3"
  },
  "language_info": {
   "codemirror_mode": {
    "name": "ipython",
    "version": 3
   },
   "file_extension": ".py",
   "mimetype": "text/x-python",
   "name": "python",
   "nbconvert_exporter": "python",
   "pygments_lexer": "ipython3",
   "version": "3.8.2"
  }
 },
 "nbformat": 4,
 "nbformat_minor": 4
}
